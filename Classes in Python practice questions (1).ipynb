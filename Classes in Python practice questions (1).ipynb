{
 "cells": [
  {
   "cell_type": "code",
   "execution_count": null,
   "id": "52b7375e-e806-4e85-b955-7c71587c47ca",
   "metadata": {},
   "outputs": [],
   "source": [
    "#FA24-BBD-039\n",
    "#LAJEEN ADNAN"
   ]
  },
  {
   "cell_type": "code",
   "execution_count": 38,
   "id": "1d8c9c2e-206d-4af0-aef1-30907422ec1d",
   "metadata": {},
   "outputs": [
    {
     "name": "stdout",
     "output_type": "stream",
     "text": [
      "alice,30,new york\n"
     ]
    }
   ],
   "source": [
    "#QUESTION NO.1\n",
    "class person:\n",
    "    def __init__(self,name,age,city):\n",
    "      self.name = name\n",
    "      self.age = age\n",
    "      self.city = city\n",
    "    def __str__(self):\n",
    "        return f\"{self.name},{self.age},{self.city}\"\n",
    "        \n",
    "person_instance= person(\"alice\", 30, \"new york\")\n",
    "\n",
    "print(person_instance)"
   ]
  },
  {
   "cell_type": "code",
   "execution_count": 44,
   "id": "90bcea7e-0bac-4f29-bcad-114685828eed",
   "metadata": {},
   "outputs": [
    {
     "name": "stdout",
     "output_type": "stream",
     "text": [
      "Honda\n",
      "Civic\n",
      "2021\n"
     ]
    }
   ],
   "source": [
    "#QUESTION NO.2\n",
    "class car:\n",
    "    def __init__(self, make, model , year):\n",
    "         self.make = make\n",
    "         self.model = model\n",
    "         self.year = year\n",
    "\n",
    "car = car(\"Honda\", \"Civic\", 2021)\n",
    "\n",
    "print(car.make)\n",
    "print(car.model)\n",
    "print(car.year)"
   ]
  },
  {
   "cell_type": "code",
   "execution_count": 66,
   "id": "3febd354-eafb-4346-800d-8780d9ecbf66",
   "metadata": {},
   "outputs": [
    {
     "name": "stdout",
     "output_type": "stream",
     "text": [
      "Area: 78.5\n",
      "Circumference: 31.400000000000002\n"
     ]
    }
   ],
   "source": [
    "#QUESTION NO.3\n",
    "class circle:\n",
    "    def __init__(self, radius):\n",
    "        self.radius = radius\n",
    "\n",
    "    def area(self):\n",
    "        return 3.14* self.radius**2\n",
    "\n",
    "    def circumference (self):\n",
    "        return 2* 3.14* self.radius\n",
    "\n",
    "circle = circle(5)\n",
    "\n",
    "print(\"Area:\", circle.area())\n",
    "print(\"Circumference:\", circle.circumference())"
   ]
  },
  {
   "cell_type": "code",
   "execution_count": 68,
   "id": "4679c000-987c-4cc6-9042-62dcabb7cad7",
   "metadata": {},
   "outputs": [
    {
     "name": "stdout",
     "output_type": "stream",
     "text": [
      "Area: 50\n",
      "Perimeter: 30\n"
     ]
    }
   ],
   "source": [
    "#QUESTION NO. 4\n",
    "class rectangle:\n",
    "    def __init__(self, length, width):\n",
    "        self.length = length\n",
    "        self.width = width\n",
    "\n",
    "    def area(self):\n",
    "        return self.length * self.width\n",
    "\n",
    "    def perimeter(self):\n",
    "        return 2*(self.length + self.width)\n",
    "\n",
    "rectangle = rectangle(10,5)\n",
    "\n",
    "print(\"Area:\" , rectangle.area())\n",
    "print(\"Perimeter:\", rectangle.perimeter())"
   ]
  },
  {
   "cell_type": "code",
   "execution_count": 70,
   "id": "6768b6e8-298b-48b8-be42-051c50f99ae0",
   "metadata": {},
   "outputs": [
    {
     "name": "stdout",
     "output_type": "stream",
     "text": [
      "Name:Alice, Roll Number: 101\n",
      "Average Marks: 84.33333333333333\n"
     ]
    }
   ],
   "source": [
    "#QUESTION NO.5 \n",
    "class student:\n",
    "    def __init__(self, name, roll_number, marks):\n",
    "        self.name = name\n",
    "        self.roll_number = roll_number\n",
    "        self.marks = marks\n",
    "\n",
    "    def calculate_average(self):\n",
    "        if not self.marks:\n",
    "            return 0\n",
    "        return sum(self.marks) / len(self.marks)\n",
    "\n",
    "student = student(\"Alice\", 101, [85, 90, 78])\n",
    "\n",
    "print(f\"Name:{student.name}, Roll Number: {student.roll_number}\")\n",
    "print(\"Average Marks:\", student.calculate_average())"
   ]
  },
  {
   "cell_type": "code",
   "execution_count": 72,
   "id": "c3a58575-d58e-4166-a561-dac8d834060f",
   "metadata": {},
   "outputs": [
    {
     "name": "stdout",
     "output_type": "stream",
     "text": [
      "Title: 1984\n",
      "Author: George Orwell\n",
      "Publication Year: 1949\n"
     ]
    }
   ],
   "source": [
    "#QUESTION NO. 6\n",
    "class book:\n",
    "    def __init__(self, title, author, publication_year):\n",
    "        self. title = title\n",
    "        self.author = author\n",
    "        self. publication_year = publication_year\n",
    "\n",
    "book = book(\"1984\", \"George Orwell\", 1949)\n",
    "\n",
    "print(\"Title:\", book.title)\n",
    "print(\"Author:\", book.author)\n",
    "print(\"Publication Year:\", book.publication_year)"
   ]
  },
  {
   "cell_type": "code",
   "execution_count": 74,
   "id": "04e90654-652f-41d5-b2d2-1240b5e837f2",
   "metadata": {},
   "outputs": [
    {
     "name": "stdout",
     "output_type": "stream",
     "text": [
      "Name: Ali\n",
      "Salary: 50000\n",
      "Designation: Software Engineer\n"
     ]
    }
   ],
   "source": [
    "#QUESTION NO.7\n",
    "class employee:\n",
    "    def __init__(self, name, salary, designation):\n",
    "        self.name = name\n",
    "        self.salary = salary\n",
    "        self.designation = designation\n",
    "\n",
    "employee = employee(\"Ali\", 50000, \"Software Engineer\")\n",
    "\n",
    "print(\"Name:\", employee.name)\n",
    "print(\"Salary:\", employee.salary)\n",
    "print(\"Designation:\", employee. designation)"
   ]
  },
  {
   "cell_type": "code",
   "execution_count": 84,
   "id": "d1bd638a-fe12-4052-9a5f-1fc59a134faf",
   "metadata": {},
   "outputs": [
    {
     "name": "stdout",
     "output_type": "stream",
     "text": [
      "Deposited 2000. New balance: 2500\n",
      "Withdraw 100. New balance: 2400\n",
      "Withdraw 700. New balance: 1700\n"
     ]
    }
   ],
   "source": [
    "#QUESTION NO.8\n",
    "class bank:\n",
    "    def __init__(self, name, account_number, balance=0):\n",
    "        self.name = name\n",
    "        self.account_number = account_number\n",
    "        self.balance = balance\n",
    "\n",
    "    def deposit(self, amount):\n",
    "        if amount > 0:\n",
    "            self.balance +=amount\n",
    "            print(f\"Deposited {amount}. New balance: {self.balance}\")\n",
    "        else: \n",
    "            print(\"Deposit amount must be positive.\")\n",
    "    def withdraw(self, amount):\n",
    "        if amount > 0 and amount <= self.balance:\n",
    "            self.balance -= amount\n",
    "            print(f\"Withdraw {amount}. New balance: {self.balance}\")\n",
    "        else:\n",
    "            print(\"Invalid withdrawal amount or insufficient funds.\")\n",
    "\n",
    "account = bank(\"Ali\", 123456789, 500)\n",
    "\n",
    "account.deposit(2000)\n",
    "\n",
    "account.withdraw(100)\n",
    "\n",
    "account.withdraw(700)"
   ]
  },
  {
   "cell_type": "code",
   "execution_count": null,
   "id": "c3b0e55b-5349-4db7-90b5-bc5cf698c0c2",
   "metadata": {},
   "outputs": [],
   "source": []
  }
 ],
 "metadata": {
  "kernelspec": {
   "display_name": "Python 3 (ipykernel)",
   "language": "python",
   "name": "python3"
  },
  "language_info": {
   "codemirror_mode": {
    "name": "ipython",
    "version": 3
   },
   "file_extension": ".py",
   "mimetype": "text/x-python",
   "name": "python",
   "nbconvert_exporter": "python",
   "pygments_lexer": "ipython3",
   "version": "3.12.4"
  }
 },
 "nbformat": 4,
 "nbformat_minor": 5
}
